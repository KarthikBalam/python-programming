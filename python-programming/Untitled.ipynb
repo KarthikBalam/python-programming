{
 "cells": [
  {
   "cell_type": "markdown",
   "metadata": {},
   "source": [
    "1)This is a Python Program to Calculate the Average of Numbers in a Given List.\n",
    "\n",
    "Problem Description:\n",
    "\n",
    "The program takes the elements of the list one by one and displays the average of the elements of the list."
   ]
  },
  {
   "cell_type": "code",
   "execution_count": 6,
   "metadata": {},
   "outputs": [
    {
     "name": "stdout",
     "output_type": "stream",
     "text": [
      "enter the num of elements to be in the list: 5\n",
      "enter the elements to be in the list12\n",
      "enter the elements to be in the list34\n",
      "enter the elements to be in the list43\n",
      "enter the elements to be in the list12\n",
      "enter the elements to be in the list34\n",
      "[12, 34, 43, 12, 34]\n",
      "avg of the elements in the list is : 27.0\n"
     ]
    }
   ],
   "source": [
    "noe=int(input(\"enter the num of elements to be in the list: \"))\n",
    "k=[]\n",
    "for i in range(0,noe):\n",
    "    e=int(input(\"enter the elements to be in the list\"))\n",
    "    k.append(e)\n",
    "avg=sum(k)/noe\n",
    "print(k)\n",
    "print(\"avg of the elements in the list is :\",avg)"
   ]
  },
  {
   "cell_type": "markdown",
   "metadata": {},
   "source": [
    "This is a Python Program to exchange the values of two numbers without using a temporary variable.\n",
    "\n",
    "Problem Description:\n",
    "\n",
    "The program takes both the values from the user and swaps them without using temporary variable."
   ]
  },
  {
   "cell_type": "code",
   "execution_count": 11,
   "metadata": {},
   "outputs": [
    {
     "name": "stdout",
     "output_type": "stream",
     "text": [
      "enter the value to be in a:2\n",
      "enter the value to be in b:3\n",
      "value of a = 3 \n",
      "value of b = 2\n"
     ]
    }
   ],
   "source": [
    "a=int(input(\"enter the value to be in a:\"))\n",
    "b=int(input(\"enter the value to be in b:\"))\n",
    "a=a+b\n",
    "b=a-b\n",
    "a=a-b\n",
    "print(\"value of a =\",a,\"\\nvalue of b =\",b)"
   ]
  },
  {
   "cell_type": "code",
   "execution_count": null,
   "metadata": {},
   "outputs": [],
   "source": []
  }
 ],
 "metadata": {
  "kernelspec": {
   "display_name": "Python 3",
   "language": "python",
   "name": "python3"
  },
  "language_info": {
   "codemirror_mode": {
    "name": "ipython",
    "version": 3
   },
   "file_extension": ".py",
   "mimetype": "text/x-python",
   "name": "python",
   "nbconvert_exporter": "python",
   "pygments_lexer": "ipython3",
   "version": "3.7.6"
  }
 },
 "nbformat": 4,
 "nbformat_minor": 4
}
